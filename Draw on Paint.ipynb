{
 "cells": [
  {
   "cell_type": "code",
   "execution_count": null,
   "metadata": {},
   "outputs": [],
   "source": [
    "import pyautogui"
   ]
  },
  {
   "cell_type": "code",
   "execution_count": null,
   "metadata": {},
   "outputs": [],
   "source": [
    "import time"
   ]
  },
  {
   "cell_type": "code",
   "execution_count": null,
   "metadata": {},
   "outputs": [],
   "source": [
    "def draw_my_initials(text_size, space_size):\n",
    "    \"\"\"\n",
    "    Draws the initials COS onto the screen.\n",
    "    \"\"\"\n",
    "    # Start drawing\n",
    "    pyautogui.mouseDown()\n",
    "    # Draw the letter C\n",
    "    pyautogui.moveRel(text_size, 0)\n",
    "    pyautogui.moveRel(0, -text_size)\n",
    "    pyautogui.moveRel(-text_size, 0)\n",
    "    # Make a space\n",
    "    pyautogui.mouseUp()\n",
    "    pyautogui.moveRel(space_size, 0)\n",
    "    # Draw the letter O\n",
    "    pyautogui.mouseDown()\n",
    "    pyautogui.moveRel(0, text_size)\n",
    "    pyautogui.moveRel(-text_size, 0)\n",
    "    pyautogui.moveRel(0, -text_size)\n",
    "    pyautogui.moveRel(text_size, 0)\n",
    "    pyautogui.mouseUp()\n",
    "    pyautogui.moveRel(-text_size, 0)\n",
    "    # Make a space\n",
    "    pyautogui.moveRel(space_size, 0)\n",
    "    # Draw the letter S\n",
    "    pyautogui.mouseDown()\n",
    "    pyautogui.moveRel(-text_size, 0)\n",
    "    pyautogui.moveRel(0, text_size/2)\n",
    "    pyautogui.moveRel(text_size, 0)\n",
    "    pyautogui.moveRel(0, text_size/2)\n",
    "    pyautogui.moveRel(-text_size, 0)\n",
    "    # All done, release mouse button\n",
    "    pyautogui.mouseUp()\n",
    "      \n",
    "if __name__ == \"__main__\":\n",
    "    text_size = -50\n",
    "    space_size = 20\n",
    "    # open paint\n",
    "    paint_path = \"C:\\WINDOWS\\system32\\mspaint.exe\"\n",
    "    os.startfile(paint_path)\n",
    "    # wait for paint to start\n",
    "    time.sleep(2)\n",
    "    # Start drawing\n",
    "    for i in range(4): # Amount of initials\n",
    "        draw_my_initials(text_size, space_size)\n",
    "        pyautogui.moveRel(-text_size, text_size - space_size)"
   ]
  },
  {
   "cell_type": "code",
   "execution_count": null,
   "metadata": {},
   "outputs": [],
   "source": []
  }
 ],
 "metadata": {
  "kernelspec": {
   "display_name": "Python 3",
   "language": "python",
   "name": "python3"
  },
  "language_info": {
   "codemirror_mode": {
    "name": "ipython",
    "version": 3
   },
   "file_extension": ".py",
   "mimetype": "text/x-python",
   "name": "python",
   "nbconvert_exporter": "python",
   "pygments_lexer": "ipython3",
   "version": "3.7.7"
  }
 },
 "nbformat": 4,
 "nbformat_minor": 4
}
