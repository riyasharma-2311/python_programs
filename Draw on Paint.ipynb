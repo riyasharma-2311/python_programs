{
 "cells": [
  {
   "cell_type": "code",
   "execution_count": 1,
   "metadata": {},
   "outputs": [],
   "source": [
    "import pyautogui"
   ]
  },
  {
   "cell_type": "code",
   "execution_count": 2,
   "metadata": {},
   "outputs": [],
   "source": [
    "import time"
   ]
  },
  {
   "cell_type": "code",
   "execution_count": 3,
   "metadata": {},
   "outputs": [
    {
     "ename": "NameError",
     "evalue": "name 'os' is not defined",
     "output_type": "error",
     "traceback": [
      "\u001b[1;31m---------------------------------------------------------------------------\u001b[0m",
      "\u001b[1;31mNameError\u001b[0m                                 Traceback (most recent call last)",
      "\u001b[1;32m<ipython-input-3-adaef1e81ce2>\u001b[0m in \u001b[0;36m<module>\u001b[1;34m\u001b[0m\n\u001b[0;32m     37\u001b[0m     \u001b[1;31m# open paint\u001b[0m\u001b[1;33m\u001b[0m\u001b[1;33m\u001b[0m\u001b[1;33m\u001b[0m\u001b[0m\n\u001b[0;32m     38\u001b[0m     \u001b[0mpaint_path\u001b[0m \u001b[1;33m=\u001b[0m \u001b[1;34m\"C:\\WINDOWS\\system32\\mspaint.exe\"\u001b[0m\u001b[1;33m\u001b[0m\u001b[1;33m\u001b[0m\u001b[0m\n\u001b[1;32m---> 39\u001b[1;33m     \u001b[0mos\u001b[0m\u001b[1;33m.\u001b[0m\u001b[0mstartfile\u001b[0m\u001b[1;33m(\u001b[0m\u001b[0mpaint_path\u001b[0m\u001b[1;33m)\u001b[0m\u001b[1;33m\u001b[0m\u001b[1;33m\u001b[0m\u001b[0m\n\u001b[0m\u001b[0;32m     40\u001b[0m     \u001b[1;31m# wait for paint to start\u001b[0m\u001b[1;33m\u001b[0m\u001b[1;33m\u001b[0m\u001b[1;33m\u001b[0m\u001b[0m\n\u001b[0;32m     41\u001b[0m     \u001b[0mtime\u001b[0m\u001b[1;33m.\u001b[0m\u001b[0msleep\u001b[0m\u001b[1;33m(\u001b[0m\u001b[1;36m2\u001b[0m\u001b[1;33m)\u001b[0m\u001b[1;33m\u001b[0m\u001b[1;33m\u001b[0m\u001b[0m\n",
      "\u001b[1;31mNameError\u001b[0m: name 'os' is not defined"
     ]
    }
   ],
   "source": [
    "def draw_my_initials(text_size, space_size):\n",
    "    \"\"\"\n",
    "    Draws the initials COS onto the screen.\n",
    "    \"\"\"\n",
    "    # Start drawing\n",
    "    pyautogui.mouseDown()\n",
    "    # Draw the letter C\n",
    "    pyautogui.moveRel(text_size, 0)\n",
    "    pyautogui.moveRel(0, -text_size)\n",
    "    pyautogui.moveRel(-text_size, 0)\n",
    "    # Make a space\n",
    "    pyautogui.mouseUp()\n",
    "    pyautogui.moveRel(space_size, 0)\n",
    "    # Draw the letter O\n",
    "    pyautogui.mouseDown()\n",
    "    pyautogui.moveRel(0, text_size)\n",
    "    pyautogui.moveRel(-text_size, 0)\n",
    "    pyautogui.moveRel(0, -text_size)\n",
    "    pyautogui.moveRel(text_size, 0)\n",
    "    pyautogui.mouseUp()\n",
    "    pyautogui.moveRel(-text_size, 0)\n",
    "    # Make a space\n",
    "    pyautogui.moveRel(space_size, 0)\n",
    "    # Draw the letter S\n",
    "    pyautogui.mouseDown()\n",
    "    pyautogui.moveRel(-text_size, 0)\n",
    "    pyautogui.moveRel(0, text_size/2)\n",
    "    pyautogui.moveRel(text_size, 0)\n",
    "    pyautogui.moveRel(0, text_size/2)\n",
    "    pyautogui.moveRel(-text_size, 0)\n",
    "    # All done, release mouse button\n",
    "    pyautogui.mouseUp()\n",
    "      \n",
    "if __name__ == \"__main__\":\n",
    "    text_size = -50\n",
    "    space_size = 20\n",
    "    # open paint\n",
    "    paint_path = \"C:\\WINDOWS\\system32\\mspaint.exe\"\n",
    "    os.startfile(paint_path)\n",
    "    # wait for paint to start\n",
    "    time.sleep(2)\n",
    "    # Start drawing\n",
    "    for i in range(4): # Amount of initials\n",
    "        draw_my_initials(text_size, space_size)\n",
    "        pyautogui.moveRel(-text_size, text_size - space_size)"
   ]
  },
  {
   "cell_type": "code",
   "execution_count": null,
   "metadata": {},
   "outputs": [],
   "source": []
  }
 ],
 "metadata": {
  "kernelspec": {
   "display_name": "Python 3",
   "language": "python",
   "name": "python3"
  },
  "language_info": {
   "codemirror_mode": {
    "name": "ipython",
    "version": 3
   },
   "file_extension": ".py",
   "mimetype": "text/x-python",
   "name": "python",
   "nbconvert_exporter": "python",
   "pygments_lexer": "ipython3",
   "version": "3.7.7"
  }
 },
 "nbformat": 4,
 "nbformat_minor": 4
}
